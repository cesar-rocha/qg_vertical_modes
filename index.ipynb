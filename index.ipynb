{
 "cells": [
  {
   "cell_type": "markdown",
   "metadata": {},
   "source": [
    "<h1>On Galerkin approximations for the QG equations</h1> \n",
    "<h2>Supplementary materials</h2>\n",
    "<p></p>\n",
    "</h3>Cesar B. Rocha*</h3>\n",
    "</h3>, William R. Young, and Ian Grooms </h3>\n",
    "<p></p>\n",
    "</h4>Winter 2015 </h4>\n",
    "<p></p>\n",
    "*Scripps Institution of Oceanography, University of California, San Diego, 9500 Gilman Dr. MC 0213, La Jolla, CA/USA, <crocha@ucsd.edu>\n",
    "\n",
    "\n"
   ]
  },
  {
   "cell_type": "markdown",
   "metadata": {},
   "source": [
    "###The Eady problem "
   ]
  },
  {
   "cell_type": "markdown",
   "metadata": {},
   "source": [
    "<li><a href=\"http://nbviewer.ipython.org/github/crocha700/qg_vertical_modes/blob/master/eady_problem/linear_eady_galerk.ipynb\">Base-state and linear stability analysis</a></li>\n",
    "<p></p>\n",
    "<li><a href=\"http://nbviewer.ipython.org/github/crocha700/qg_vertical_modes/blob/master/eady_problem/eady_base_state_pv.ipynb\">The Eady base-state approximate PV</a></li>\n",
    "<p></p>\n",
    "<li><a href=\"http://nbviewer.ipython.org/github/crocha700/qg_vertical_modes/blob/master/eady_problem/wave_structure.ipynb\">Approximation A spurius unstable modes: wave structure in the $(x,z)$-plane</a></li>\n",
    "<p></p>\n",
    "<p>Output data (click on \"view raw\" to download)</p>\n",
    "<p></p>\n",
    "    <li><a href=\"https://github.com/crocha700/qg_vertical_modes/blob/master/eady_problem/linear_eady_A.npz\">Approximation A</a></li>\n",
    "<p></p>\n",
    "<li><a href=\"https://github.com/crocha700/qg_vertical_modes/blob/master/eady_problem/linear_eady_C.npz\">Approximation C</a></li>"
   ]
  },
  {
   "cell_type": "markdown",
   "metadata": {},
   "source": [
    "### The $\\beta-$Eady problem"
   ]
  },
  {
   "cell_type": "markdown",
   "metadata": {},
   "source": [
    "<li><a href=\"http://nbviewer.ipython.org/github/crocha700/qg_vertical_modes/blob/master/beta_eady_problem/beta_eady_galerk.ipynb\">The Eady base-state approximate PV</a></li>\n",
    "<p></p>\n",
    "<li><a href=\"http://nbviewer.ipython.org/github/crocha700/qg_vertical_modes/blob/master/beta_eady_problem/beta_eady_galerk.ipynb\">Finite differences solution: Charney mode wave structure in the $(x,z)$-plane</a></li>\n",
    "\n",
    "<p></p>\n",
    "<p>Output data (click on \"view raw\" to download)</p>\n",
    "<p></p>\n",
    "<p></p>\n",
    "    <li><a href=\"https://github.com/crocha700/qg_vertical_modes/blob/master/beta_eady_problem/outputs/beta-eady_A.npz\">Approximation A</a></li>\n",
    "<p></p>\n",
    "   <li><a href=\"https://github.com/crocha700/qg_vertical_modes/blob/master/beta_eady_problem/outputs/beta-eady_B.npz\">Approximation B</a></li>\n",
    "   <p></p>\n",
    "   <li><a href=\"https://github.com/crocha700/qg_vertical_modes/blob/master/beta_eady_problem/outputs/beta-eady_C.npz\">Approximation C</a></li>\n",
    "      <p></p>\n",
    "   <li><a href=\"https://github.com/crocha700/qg_vertical_modes/blob/master/beta_eady_problem/outputs/beta-eady_num.npz\">Finite differences</a></li>"
   ]
  },
  {
   "cell_type": "markdown",
   "metadata": {},
   "source": [
    "### Extras"
   ]
  },
  {
   "cell_type": "markdown",
   "metadata": {},
   "source": [
    "<a href=\"http://nbviewer.ipython.org/github/crocha700/qg_vertical_modes/blob/master/elementary_example/elementary_example.ipynb\">Can we get a sine out of cosines? An elementary example of Galerkin approximation</a></li>\n",
    "<p></p>\n",
    "<a href=\"./supplementary_galerkin_qg.pdf\">Algebra details</a></li>"
   ]
  },
  {
   "cell_type": "code",
   "execution_count": null,
   "metadata": {
    "collapsed": true
   },
   "outputs": [],
   "source": []
  }
 ],
 "metadata": {
  "kernelspec": {
   "display_name": "Python 2",
   "language": "python",
   "name": "python2"
  },
  "language_info": {
   "codemirror_mode": {
    "name": "ipython",
    "version": 2
   },
   "file_extension": ".py",
   "mimetype": "text/x-python",
   "name": "python",
   "nbconvert_exporter": "python",
   "pygments_lexer": "ipython2",
   "version": "2.7.9"
  }
 },
 "nbformat": 4,
 "nbformat_minor": 0
}
